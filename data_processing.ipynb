{
 "cells": [
  {
   "cell_type": "code",
   "execution_count": 12,
   "metadata": {},
   "outputs": [],
   "source": [
    "import pandas as pd\n",
    "import networkx as nx\n",
    "import json\n",
    "from networkx.readwrite import json_graph\n",
    "# Load the dataset\n",
    "df = pd.read_csv(\"./data_scopus.csv\")\n",
    "\n",
    "# Drop rows with no Author Affiliations\n",
    "df = df[~pd.isnull(df['Authors with affiliations'])]\n",
    "\n",
    "# Create a NetworkX graph for the author network\n",
    "G = nx.Graph()\n",
    "\n",
    "# Add author nodes to the graph\n",
    "authors = df['Authors with affiliations'].str.split(';')\n",
    "for author_list in authors:\n",
    "    for author_info in author_list:\n",
    "        author_name = author_info.split(',')[-1].strip()\n",
    "        G.add_node(author_name)\n",
    "\n",
    "# Add co-authorship relationships (edges) to the graph\n",
    "for author_list in authors:\n",
    "    author_names = [author_info.split(',')[-1].strip() for author_info in author_list]\n",
    "    if len(author_names) > 1:\n",
    "        for i in range(len(author_names)):\n",
    "            for j in range(i + 1, len(author_names)):\n",
    "                G.add_edge(author_names[i], author_names[j])\n",
    "\n",
    "# Create a JSON file for visualization\n",
    "with open(\"author_network.json\", 'w') as f:\n",
    "    json.dump(json_graph.node_link_data(G), f)\n",
    "\n",
    "# Optionally, you can save the graph in other formats (e.g., GML) for further analysis\n",
    "nx.write_gml(G, \"author_network.gml\")\n"
   ]
  }
 ],
 "metadata": {
  "kernelspec": {
   "display_name": "Python 3",
   "language": "python",
   "name": "python3"
  },
  "language_info": {
   "codemirror_mode": {
    "name": "ipython",
    "version": 3
   },
   "file_extension": ".py",
   "mimetype": "text/x-python",
   "name": "python",
   "nbconvert_exporter": "python",
   "pygments_lexer": "ipython3",
   "version": "3.11.3"
  }
 },
 "nbformat": 4,
 "nbformat_minor": 2
}
